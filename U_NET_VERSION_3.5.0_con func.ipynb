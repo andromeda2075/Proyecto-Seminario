{
 "cells": [
  {
   "cell_type": "markdown",
   "id": "e13b9457-7719-49e5-92db-c89f3ae4677e",
   "metadata": {},
   "source": [
    "<span style=\"color:blue\">\n",
    "The main changes are as follows:\n",
    "    \n",
    "1. A smaller learning rate \n",
    "   \n",
    "2. Mask correction base on geometry\n",
    "\n",
    "3. Check value loss inside obstacle\n",
    "\n",
    "4. The training loop is redefined in functions\n",
    "\n",
    "   \n",
    "This notebook follows a custom training loop [(1) ](https://physicsbaseddeeplearning.org/bayesian-code.html), [(2)](https://github.com/thunil/Deep-Flow-Prediction/tree/master) that incorporates a loss function MSE+ and MAE+, as outlined in proposal \n",
    "[(3)](https://etna.math.kent.edu/vol.56.2022/pp235-255.dir/pp235-255.pdf).   In the case of MSE+ and MAE+, a constant $C$ is added to multiply the mean relative error component.  \n",
    "</span>\n"
   ]
  },
  {
   "cell_type": "markdown",
   "id": "a4784e23-3021-4b3f-95e0-615d49b9297f",
   "metadata": {},
   "source": [
    "## <span style=\"color:blue\">1.Imports</span>"
   ]
  },
  {
   "cell_type": "code",
   "execution_count": 1,
   "id": "76342eaf-351c-4389-85cf-82bb63479921",
   "metadata": {},
   "outputs": [
    {
     "name": "stderr",
     "output_type": "stream",
     "text": [
      "2024-11-24 21:08:16.268917: I tensorflow/core/util/port.cc:153] oneDNN custom operations are on. You may see slightly different numerical results due to floating-point round-off errors from different computation orders. To turn them off, set the environment variable `TF_ENABLE_ONEDNN_OPTS=0`.\n",
      "2024-11-24 21:08:16.276685: E external/local_xla/xla/stream_executor/cuda/cuda_fft.cc:485] Unable to register cuFFT factory: Attempting to register factory for plugin cuFFT when one has already been registered\n",
      "2024-11-24 21:08:16.285942: E external/local_xla/xla/stream_executor/cuda/cuda_dnn.cc:8454] Unable to register cuDNN factory: Attempting to register factory for plugin cuDNN when one has already been registered\n",
      "2024-11-24 21:08:16.288452: E external/local_xla/xla/stream_executor/cuda/cuda_blas.cc:1452] Unable to register cuBLAS factory: Attempting to register factory for plugin cuBLAS when one has already been registered\n",
      "2024-11-24 21:08:16.295838: I tensorflow/core/platform/cpu_feature_guard.cc:210] This TensorFlow binary is optimized to use available CPU instructions in performance-critical operations.\n",
      "To enable the following instructions: AVX2 AVX_VNNI FMA, in other operations, rebuild TensorFlow with the appropriate compiler flags.\n",
      "2024-11-24 21:08:16.753183: W tensorflow/compiler/tf2tensorrt/utils/py_utils.cc:38] TF-TRT Warning: Could not find TensorRT\n"
     ]
    }
   ],
   "source": [
    "import keras\n",
    "import datetime\n",
    "import tensorflow                       as tf\n",
    "from tensorflow.keras.callbacks         import TensorBoard\n",
    "from tensorflow.keras.layers            import Input, Lambda, Conv2D,Dropout,MaxPooling2D,Conv2DTranspose,concatenate,BatchNormalization\n",
    "from tensorflow.keras.models            import Model\n",
    "from tensorflow.keras.optimizers        import Adam\n",
    "from keras.utils                        import plot_model\n",
    "from tensorflow.keras                   import layers, models\n",
    "from tensorflow.keras.losses            import mae\n",
    "import sys\n",
    "import os\n",
    "import numpy as np\n",
    "import math\n",
    "import random, time\n",
    "from tqdm                               import tqdm\n",
    "\n",
    "import skimage                      as ski\n",
    "from   skimage.filters              import threshold_otsu\n",
    "from   skimage                      import io, color\n",
    "from   skimage.color                import rgb2gray\n",
    "from   skimage                      import filters\n",
    "import cv2                          as cv\n",
    "import matplotlib.pyplot            as plt\n",
    "import pandas as pd\n"
   ]
  },
  {
   "cell_type": "markdown",
   "id": "d4d7e607-ae7a-479e-b777-62fa15fa7cb3",
   "metadata": {},
   "source": [
    "\n",
    "## <span style=\"color:blue\">2.Load directory</span>"
   ]
  },
  {
   "cell_type": "code",
   "execution_count": 2,
   "id": "862fe955-06ae-421b-8921-749156378a70",
   "metadata": {},
   "outputs": [],
   "source": [
    "# Files path\n",
    "directory= os.path.abspath(\"/home/guiomar/Desktop/CODES/DLCODES\")\n",
    "\n",
    "# Add directory to sys.path\n",
    "sys.path.append(directory)\n",
    "\n",
    "# import script\n",
    "import param  \n",
    "\n",
    "# Set the number of cores\n",
    "os.environ[\"TF_CPP_MIN_LOG_LEVEL\"] = \"2\"\n",
    "num_threads = param.n_threads  \n",
    "tf.config.threading.set_intra_op_parallelism_threads(num_threads)\n",
    "tf.config.threading.set_inter_op_parallelism_threads(num_threads)\n",
    "\n"
   ]
  },
  {
   "cell_type": "markdown",
   "id": "0333adbd-5ec5-4538-87e6-31665424f88b",
   "metadata": {},
   "source": [
    "\n",
    "## <span style=\"color:blue\">3.Define parameters for data</span>"
   ]
  },
  {
   "cell_type": "code",
   "execution_count": 3,
   "id": "56c0e33d-8f9f-498c-8da5-e740796f94b8",
   "metadata": {},
   "outputs": [
    {
     "name": "stdout",
     "output_type": "stream",
     "text": [
      "NUM_CLASESS 0 => /home/guiomar/Desktop/CODES/Generation_Data/Proyecto_UNI/Geometry\n",
      "NUM_CLASESS 1 => /home/guiomar/Desktop/CODES/Generation_Data/Proyecto_UNI/Magnitude\n",
      "NUM_CLASESS 2 => /home/guiomar/Desktop/CODES/Generation_Data/Proyecto_UNI/Pression\n",
      "NUM_CLASESS 3 => /home/guiomar/Desktop/CODES/Generation_Data/Proyecto_UNI/U001\n",
      "NUM_CLASESS 4 => /home/guiomar/Desktop/CODES/Generation_Data/Proyecto_UNI/U002\n"
     ]
    }
   ],
   "source": [
    "#Load the main directory\n",
    "paths=param.list_paths \n",
    "for i,j in enumerate(paths):\n",
    "    print(f'NUM_CLASESS {i} => {j}')\n",
    "\n",
    "# Defining amount of train,valid,test images\n",
    "n_train=0.8;    n_valid=0.1;    n_test=0.1\n",
    "\n",
    "# Defining a sample i.e.\n",
    "n_sample=500 # 500                   \n",
    "\n",
    "#Pack them into batches (we’ll use batches of 10 images e.g.)\n",
    "batch_size= 10                  #10\n",
    "\n",
    "# For resizing dimentions\n",
    "h=128\n",
    "w=256"
   ]
  },
  {
   "cell_type": "markdown",
   "id": "bb7d9eaa-b5cf-403c-b1dd-315d2b72c926",
   "metadata": {},
   "source": [
    "## <span style=\"color:blue\">4. Setup</span>\n",
    "### <span style=\"color:red\">4.1 Hiperparameters</span>"
   ]
  },
  {
   "cell_type": "code",
   "execution_count": 4,
   "id": "9f822ba1-b26c-43bb-851a-c2fb6b6db5db",
   "metadata": {},
   "outputs": [],
   "source": [
    "BATCH_SIZE=50               # 50\n",
    "LR=0.001                    # before       LR = 0.01  \n",
    "EPOCHS =150                # 150                     \n",
    "DECAY_RATE=0.015\n",
    "NUM_CLASESS=1 # Only magnitude e.g.\n",
    "#num_train_data=geo_array_train.shape[0]     \n",
    "#  Constants\n",
    "C=1e-2  # 1e-2\n",
    "Eps=1e-4\n",
    "   "
   ]
  },
  {
   "cell_type": "markdown",
   "id": "f9f91875-6c1d-45e8-83c1-b8991f1ff15a",
   "metadata": {},
   "source": [
    "## <span style=\"color:blue\">5. Preprocessing </span>"
   ]
  },
  {
   "cell_type": "code",
   "execution_count": 5,
   "id": "3fe9e4a6-d3c1-43be-a702-0ea0f68d274f",
   "metadata": {},
   "outputs": [],
   "source": [
    "# method for reading image    \n",
    "def get_img(img_name):\n",
    "    return ski.io.imread(img_name)\n",
    " \n",
    "# method for turning to a grey or binary image \n",
    "def processing(image,option=True):\n",
    "        x = get_img(image)  \n",
    "        x = rgb2gray(x)       # It returns a grayscale image with floating point values in the range from 0 to 1\n",
    "        x =cv.resize(x,(w,h)) # Reshape image \n",
    "    \n",
    "        # Binary option otherwise gray\n",
    "        if (option):\n",
    "            x=ski.util.img_as_ubyte(x)  # Convert it back to the original data type and the data range back 0 to 255. \n",
    "                                        # It is often better to use image values represented by floating point values \n",
    "            best_value_threshold=np.round(filters.threshold_otsu(x)) #  Otsu’s method calculates an “optimal” threshold\n",
    "            _,x= cv.threshold(x, best_value_threshold, 255, cv.THRESH_BINARY_INV)\n",
    "\n",
    "        x=x[:, :, np.newaxis]\n",
    "        return x\n",
    "    \n",
    "# method for splitting data\n",
    "def split_data(path,n_sample,n_train,n_valid,n_test):\n",
    "        \n",
    "        files=sorted([os.path.join(path, fname) for fname in os.listdir(path) if fname.endswith(\".png\")])\n",
    "        n_files=len(files)\n",
    "        \n",
    "        if(n_files>n_sample):\n",
    "                print()\n",
    "                print(' ######  \\t Loaded ',n_sample,' of ',n_files,'from ',path,'\\t #####\\n')\n",
    "                if (n_train + n_valid + n_test == 1.0):\n",
    "        \n",
    "                    n_train= math.floor(n_sample*n_train)\n",
    "                    n_valid = math.floor(n_sample*n_valid) + n_train\n",
    "                    n_test = math.floor(n_sample*n_test) + n_valid\n",
    "              \n",
    "                    (files_train,files_valid,files_tests) = (files[0:n_train], files[n_train:n_valid],files[n_valid:n_test])\n",
    "                    \n",
    "                return files_train,files_valid,files_tests\n",
    "\n",
    "def arrays_img_processed(data,type=True): # True for Geometry \n",
    "    # begin in data[1:] \n",
    "    if type:\n",
    "        list_arrays=[processing(image,option=True).astype(np.float32) for image in data[1:] ]\n",
    "    else:\n",
    "        list_arrays=[processing(image,option=False).astype(np.float32) for image in data[1:] ]\n",
    "   \n",
    "    return np.array(list_arrays) \n"
   ]
  },
  {
   "cell_type": "code",
   "execution_count": 6,
   "id": "8ed03c33-3dc9-4d07-ad2b-000a1046cf5a",
   "metadata": {},
   "outputs": [
    {
     "name": "stdout",
     "output_type": "stream",
     "text": [
      "\n",
      " ######  \t Loaded  500  of  1001 from  /home/guiomar/Desktop/CODES/Generation_Data/Proyecto_UNI/Geometry \t #####\n",
      "\n",
      "\n",
      " ######  \t Loaded  500  of  1001 from  /home/guiomar/Desktop/CODES/Generation_Data/Proyecto_UNI/Magnitude \t #####\n",
      "\n",
      "Training data for geometry: (399, 128, 256, 1)\n",
      "Training data for magnitude: (399, 128, 256, 1)\n",
      "\n",
      "Valid data for geometry: (49, 128, 256, 1)\n",
      "Valid data for magnitude: (49, 128, 256, 1)\n",
      "\n",
      "Test data for geometry: (49, 128, 256, 1)\n",
      "Test data for magnitude: (49, 128, 256, 1)\n"
     ]
    }
   ],
   "source": [
    "# Geometry\n",
    "geo_train,geo_valid,geo_tests=split_data(paths[0],n_sample,n_train,n_valid,n_test)\n",
    "geo_array_train=arrays_img_processed(geo_train)\n",
    "geo_array_valid=arrays_img_processed(geo_valid)\n",
    "geo_array_tests=arrays_img_processed(geo_tests)\n",
    "\n",
    "# Magnitude\n",
    "specific_tarjet=paths[1]\n",
    "\n",
    "mag_train,mag_valid,mag_tests=split_data(specific_tarjet,n_sample,n_train,n_valid,n_test)\n",
    "mag_array_train=arrays_img_processed(mag_train,False)\n",
    "mag_array_valid=arrays_img_processed(mag_valid,False)\n",
    "mag_array_tests=arrays_img_processed(mag_tests,False)\n",
    "\n",
    "print(f'Training data for geometry: {geo_array_train.shape}')\n",
    "print(f'Training data for magnitude: {mag_array_train.shape}')\n",
    "print()\n",
    "print(f'Valid data for geometry: {geo_array_valid.shape}')\n",
    "print(f'Valid data for magnitude: {mag_array_valid.shape}')\n",
    "print()\n",
    "print(f'Test data for geometry: {geo_array_tests.shape}')\n",
    "print(f'Test data for magnitude: {mag_array_tests.shape}')\n"
   ]
  },
  {
   "cell_type": "markdown",
   "id": "446e9764-952c-47b6-88db-f89a66e5cc63",
   "metadata": {},
   "source": [
    "### <span style=\"color:red\">5.1 TensorFlow Dataset objects</span>\n",
    "A Dataset object is an iterator. It will typically return batches of input data and tarjet"
   ]
  },
  {
   "cell_type": "code",
   "execution_count": 7,
   "id": "17790ca4-0e7a-4d1e-9921-dde2d79dd921",
   "metadata": {},
   "outputs": [
    {
     "name": "stdout",
     "output_type": "stream",
     "text": [
      "Training & validation batches number: 39 , 4\n",
      "\n",
      "geo batch shape: (10, 128, 256, 1)\n",
      "mag batch shape: (10, 128, 256, 1)\n",
      "batch number 1\n",
      "------------------\n"
     ]
    },
    {
     "name": "stderr",
     "output_type": "stream",
     "text": [
      "WARNING: All log messages before absl::InitializeLog() is called are written to STDERR\n",
      "I0000 00:00:1732500499.062493   54523 cuda_executor.cc:1015] successful NUMA node read from SysFS had negative value (-1), but there must be at least one NUMA node, so returning NUMA node zero. See more at https://github.com/torvalds/linux/blob/v6.0/Documentation/ABI/testing/sysfs-bus-pci#L344-L355\n",
      "2024-11-24 21:08:19.082938: W tensorflow/core/common_runtime/gpu/gpu_device.cc:2343] Cannot dlopen some GPU libraries. Please make sure the missing libraries mentioned above are installed properly if you would like to use GPU. Follow the guide at https://www.tensorflow.org/install/gpu for how to download and setup the required libraries for your platform.\n",
      "Skipping registering GPU devices...\n"
     ]
    }
   ],
   "source": [
    "# slices of an array in the form of objects by using tf.data.Dataset.from_tensor_slices() method\n",
    "train_data=tf.data.Dataset.from_tensor_slices((geo_array_train, mag_array_train))\n",
    "valid_data=tf.data.Dataset.from_tensor_slices((geo_array_valid, mag_array_valid))\n",
    "\n",
    "#representing the number of consecutive elements of this dataset to combine in a single batch\n",
    "#the last batch is dropped in the case it has fewer than batch_size elements\n",
    "\n",
    "trainLoader = train_data.batch(batch_size,drop_remainder=True)\n",
    "valiLoader = valid_data.batch(batch_size,drop_remainder=True)\n",
    "\n",
    "print(\"Training & validation batches number: {} , {}\\n\".format(len(trainLoader),len(valiLoader) ))\n",
    "i=0;\n",
    "for geo_batch, mag_batch in trainLoader:\n",
    "    print(\"geo batch shape:\", geo_batch.shape)\n",
    "    print(\"mag batch shape:\", mag_batch.shape)\n",
    "    i=i+1\n",
    "    print(f'batch number {i}')\n",
    "    print('------------------')\n",
    "    break\n",
    "\n"
   ]
  },
  {
   "cell_type": "markdown",
   "id": "bb49a655-a17a-4dc6-b968-4554c3e7c8bc",
   "metadata": {},
   "source": [
    "### <span style=\"color:red\">5.2 Create a mask</span>"
   ]
  },
  {
   "cell_type": "code",
   "execution_count": 8,
   "id": "85761ad2-0582-4936-af44-f75f8022aa06",
   "metadata": {},
   "outputs": [],
   "source": [
    "#  Tool to create a mask\n",
    "def create_mask(geo_input,img_1,img_2):\n",
    "    #creates a copy of the tensor, keeping the same content and shape as the original tensor.\n",
    "    copy = tf.identity(geo_input)\n",
    "    \n",
    "    #  Convert to float32 and normalize to [0, 1]\n",
    "    mask = tf.cast(copy, tf.float32) / 255.0\n",
    "    \n",
    "    img_1_masked=tf.multiply(img_1, mask)\n",
    "    img_2_masked=tf.multiply(img_2, mask)\n",
    "    \n",
    "    # Ip is the set of all pixels that are not covered by the  obstacle\n",
    "    # Amount of pixels that are ones regarding to the mask\n",
    "    Ip_value_outside_obstacle = tf.reduce_sum(tf.cast(tf.equal(mask, 1), tf.float32)) \n",
    "    \n",
    "    #Ip_value_inside_obstacle  = tf.size(mask) - Ip_value_outside_obstacle \n",
    "\n",
    "    return img_1_masked,img_2_masked,Ip_value_outside_obstacle   "
   ]
  },
  {
   "cell_type": "markdown",
   "id": "dc403e59-4593-4b2a-9655-79f6d766be00",
   "metadata": {},
   "source": [
    "## <span style=\"color:blue\">6. Plot </span>\n",
    "#### <span style=\"color:blue\">Look at Data </span>\n"
   ]
  },
  {
   "cell_type": "code",
   "execution_count": 9,
   "id": "bc309aed-95b2-4b91-bba7-b5e417239a03",
   "metadata": {},
   "outputs": [
    {
     "data": {
      "text/plain": [
       "'\\n NUM=random.sample(range(1, mag_array_train.shape[0]), 1)\\nplot( mag_array_train[NUM[0]],mag_array_train[NUM[0]], geo_array_train[NUM[0]],title=f\"Prediction N°{NUM[0]}\",opt=\\'mask\\')\\n '"
      ]
     },
     "execution_count": 9,
     "metadata": {},
     "output_type": "execute_result"
    }
   ],
   "source": [
    "def plot(a1,a2,a3=None,title=None,opt=None):\n",
    "    \n",
    "    if opt==None:\n",
    "        fig, (ax1,ax2) = plt.subplots(1, 2, figsize=(16, 5), sharey=True)\n",
    "        ax1.set_xticks([]); ax1.set_yticks([]);\n",
    "        ax2.set_xticks([]); ax2.set_yticks([]);\n",
    "        ax1.imshow(a1,origin='upper',cmap='gray')\n",
    "        ax1.set_title('Input',fontsize=14)\n",
    "        #ax1.set_xlabel('Geometry')\n",
    "        ax1.set_ylabel('Geometry',fontsize=14)\n",
    "        ax2.imshow(a2,origin='upper',cmap='gray')\n",
    "        ax2.set_title('Target output',fontsize=14)\n",
    "        #ax2.set_xlabel('u')\n",
    "        ax2.set_ylabel('u',fontsize=16)\n",
    "        if title is not None: fig.suptitle(title)\n",
    "    elif opt=='plot':\n",
    "        fig, (ax1,ax2) = plt.subplots(1, 2, figsize=(16, 5), sharey=True)\n",
    "        ax1.set_xticks([]); ax1.set_yticks([]);\n",
    "        ax2.set_xticks([]); ax2.set_yticks([]);\n",
    "        ax1.imshow(a1,origin='upper',cmap='gray')\n",
    "        ax1.set_title('Real',fontsize=14)\n",
    "        #ax1.set_xlabel('Geometry')\n",
    "        ax1.set_ylabel('u',fontsize=14)\n",
    "        ax2.imshow(a2,origin='upper',cmap='gray')\n",
    "        ax2.set_title('Prediction',fontsize=14)\n",
    "        #ax2.set_xlabel('u')\n",
    "        ax2.set_ylabel('u',fontsize=16)\n",
    "        if title is not None: fig.suptitle(title)\n",
    "    else:\n",
    "        '''\n",
    "        geo: a3\n",
    "        u_true: a1\n",
    "        u_pred: a2\n",
    "        '''\n",
    "        a1_mask,a2_mask,count=create_mask(a1,a2,a3)\n",
    "        \n",
    "        fig, (ax1,ax2,ax3) = plt.subplots(1, 3, figsize=(16, 5), sharey=True)\n",
    "        \n",
    "        ax1.set_xticks([]); ax1.set_yticks([]);\n",
    "        ax2.set_xticks([]); ax2.set_yticks([]);\n",
    "        ax3.set_xticks([]); ax3.set_yticks([]);\n",
    "\n",
    "        ax1.imshow(a2,origin='upper',cmap='gray')\n",
    "        ax1.set_title('u_real',fontsize=14)\n",
    "        #ax2.set_xlabel('u')\n",
    "        ax1.set_ylabel('u',fontsize=16)\n",
    "        \n",
    "        ax2.imshow(a1_mask,origin='upper',cmap='gray')\n",
    "        ax2.set_title('u_real_masked',fontsize=14)\n",
    "        #ax1.set_xlabel('Geometry')\n",
    "        ax2.set_ylabel('u',fontsize=14)\n",
    "        \n",
    "        ax3.imshow(a3,origin='upper',cmap='gray')\n",
    "        ax3.set_title('u_pred',fontsize=14)\n",
    "        #ax2.set_xlabel('u')\n",
    "        ax3.set_ylabel('u',fontsize=16)\n",
    "        \n",
    "        if title is not None: fig.suptitle(title)\n",
    "        \n",
    "'''\n",
    " NUM=random.sample(range(1, mag_array_train.shape[0]), 1)\n",
    "plot( mag_array_train[NUM[0]],mag_array_train[NUM[0]], geo_array_train[NUM[0]],title=f\"Prediction N°{NUM[0]}\",opt='mask')\n",
    " '''       \n",
    "            "
   ]
  },
  {
   "cell_type": "code",
   "execution_count": 10,
   "id": "fe0685f6-3cb5-4ae5-b511-9dbed8286b92",
   "metadata": {
    "scrolled": true
   },
   "outputs": [
    {
     "data": {
      "image/png": "[encoded data removed]",
      "text/plain": [
       "<Figure size 1600x500 with 2 Axes>"
      ]
     },
     "metadata": {},
     "output_type": "display_data"
    }
   ],
   "source": [
    "NUM=random.sample(range(1, geo_array_train.shape[0]), 1)\n",
    "plot( geo_array_train[NUM[0]],mag_array_train[NUM[0]], title=f\"Training data sample N°{NUM[0]}\") "
   ]
  },
  {
   "cell_type": "markdown",
   "id": "35d3453a-c9fa-463e-84bb-2f225ed50368",
   "metadata": {},
   "source": [
    "## <span style=\"color:blue\">7. Architecture </span>"
   ]
  },
  {
   "cell_type": "code",
   "execution_count": 11,
   "id": "328dedc0-e1a1-459d-a3d2-16fee1ea5480",
   "metadata": {},
   "outputs": [],
   "source": [
    "class U_net(tf.keras.Model):\n",
    "    \n",
    "        def __init__(self, num_classes):\n",
    "            super(U_net,self).__init__()\n",
    "            \n",
    "            self.block_1=self.encoder(64)\n",
    "            self.pool_1=MaxPooling2D((2, 2))\n",
    "\n",
    "            self.block_2=self.encoder(128)\n",
    "            self.pool_2=MaxPooling2D((2, 2))\n",
    "\n",
    "            self.block_3=self.encoder(256)\n",
    "            self.pool_3=MaxPooling2D((2, 2))\n",
    "\n",
    "            self.block_4=self.encoder(512)\n",
    "            self.pool_4=MaxPooling2D((2, 2))\n",
    "\n",
    "            self.bottleneck_1=Conv2D(1024, (3,3), activation='relu', padding='same')\n",
    "            self.bottleneck_2=Conv2D(1024, (3,3), activation='relu', padding='same')\n",
    "\n",
    "            self.up_block_1=self.decoder(512)\n",
    "            self.up_block_2=self.decoder(256)\n",
    "            self.up_block_3=self.decoder(128)\n",
    "            self.up_block_4=self.decoder(64)\n",
    "\n",
    "            self.output_model=Conv2D(num_classes, (1, 1), activation=\"relu\", padding=\"same\")\n",
    "\n",
    "\n",
    "        def encoder(self,num_filters):\n",
    "            \n",
    "            block = tf.keras.Sequential(name='Encoder_part')\n",
    "            block.add(Conv2D(num_filters, (3, 3), activation=\"relu\", padding=\"same\"))\n",
    "            block.add(BatchNormalization())\n",
    "            block.add(Conv2D(num_filters, (3, 3), activation=\"relu\", padding=\"same\"))\n",
    "            block.add(BatchNormalization())\n",
    "\n",
    "            return block\n",
    "\n",
    "        def decoder(self,num_filters):\n",
    "            \n",
    "             block = tf.keras.Sequential(name='decoder_part')\n",
    "             block.add(Conv2DTranspose(num_filters,(2,2),strides=(2, 2),padding=\"same\"))\n",
    "             block.add(Conv2D(num_filters, (3, 3), activation='relu', padding='same'))\n",
    "             block.add(Conv2D(num_filters, (3, 3), activation='relu', padding='same'))\n",
    "\n",
    "             return block\n",
    "            \n",
    "        # Forward pass \n",
    "        def call(self,inputs,training=False):\n",
    "            #inputs=Input((h, w,1))\n",
    "            \n",
    "            #Encoder\n",
    "            x1=self.block_1(inputs)\n",
    "            p1=self.pool_1(x1)\n",
    "\n",
    "            x2=self.block_2(p1)\n",
    "            p2=self.pool_2(x2)\n",
    "            \n",
    "            x3=self.block_3(p2)\n",
    "            p3=self.pool_3(x3)\n",
    "            \n",
    "            x4=self.block_4(p3)\n",
    "            p4=self.pool_4(x4)\n",
    "\n",
    "            b1= self.bottleneck_1(p4)\n",
    "            b2= self.bottleneck_2(b1)\n",
    "\n",
    "            # Decoder\n",
    "            u1 = self.up_block_1(b2)\n",
    "            u2 = concatenate([u1, x4])\n",
    "\n",
    "            u3 = self.up_block_2(u2)\n",
    "            u4 = concatenate([u3, x3])\n",
    "\n",
    "            u5 = self.up_block_3(u4)\n",
    "            u6 = concatenate([u5, x2])\n",
    "\n",
    "            u7 = self.up_block_4(u6)\n",
    "            u8 = concatenate([u7, x1])\n",
    "\n",
    "            outputs = self.output_model(u8)\n",
    "            return outputs\n",
    "        \n",
    "  "
   ]
  },
  {
   "cell_type": "markdown",
   "id": "28e980da-eede-478d-9ab9-a989d7241b0c",
   "metadata": {},
   "source": [
    "### <span style=\"color:red\">7.1 Learning rate</span>\n",
    "\n",
    "Exponential Decay: \n",
    "\n",
    "$$ lr=lr_{ initial } \\times e ^{-\\text{decate rate} \\times \\text{epoch}} $$"
   ]
  },
  {
   "cell_type": "code",
   "execution_count": 12,
   "id": "0f55ca83-9fd9-41f6-b2fe-ccf718e0b01f",
   "metadata": {},
   "outputs": [
    {
     "data": {
      "image/png": "[encoded data removed]",
      "text/plain": [
       "<Figure size 640x480 with 1 Axes>"
      ]
     },
     "metadata": {},
     "output_type": "display_data"
    }
   ],
   "source": [
    "def exponential_decay(epoch,epochs,lr_ini=LR,decay_rate=DECAY_RATE):\n",
    "    if epoch < epochs/(2**3): # before 2³ = 8  poner 2 ^5 \n",
    "        return lr_ini\n",
    "    else:\n",
    "        return  lr_ini * np.exp(-decay_rate*epoch)\n",
    "    \n",
    "epochs = np.arange(EPOCHS)\n",
    "learning_rates = [exponential_decay(epoch,EPOCHS) for epoch in epochs]\n",
    "\n",
    "plt.plot(epochs, learning_rates, label=\"Learning Rate\")\n",
    "plt.title(\"Exponential Decay of the Learning Rate\")\n",
    "plt.xlabel(\"Epoch\")\n",
    "plt.ylabel(\"Learning Rate\")\n",
    "plt.grid(False)\n",
    "plt.show()    "
   ]
  },
  {
   "cell_type": "markdown",
   "id": "f64afd66-77b1-4dfc-9660-ae28f988f71c",
   "metadata": {},
   "source": [
    "### <span style=\"color:red\">7.2 Loss function</span>\n",
    "Definition of custom loss function MSEplus\n",
    "\n",
    "$$  MSEplus = MSE + C(MRE)$$\n",
    "\n",
    "$$ MSEplus =  \\frac{1}{|I_P|} \\sum_{p \\in I_P} \\Big( \\left\\|u_p - \\hat{u}_p \\right\\|_2^2 + C \\frac{\\left\\|u_p - \\hat{u}_p \\right\\|_2}{ \\left\\|u_p  \\right\\|_2 + 10^{-4}}\\Big) $$\n",
    "\n",
    "where\n",
    "$$ MRE = \\frac{1}{|I_P|} \\sum_{p \\in I_P} \\Big (\\frac{\\left\\|u_p - \\hat{u}_p \\right\\|_2}{ \\left\\|u_p \\right\\|_2 + 10^{-4} }\\Big) $$\n",
    "#### $u_p$ is the velocity prediction vector at pixel $p$.\n",
    "\n",
    "#### $\\hat{u}_p$ is the reference velocity at $p$, i.e.,the evaluation of the CFD solution.\n",
    "\n",
    "#### $I_P$ is the set of all pixels $p$ that are not covered by the respective obstacle.\n",
    "\n",
    "#### <span style=\"color:red\">0.0 -> Black </span>\n",
    "#### <span style=\"color:red\">1.0 (255) ->White</span>\n",
    "## ![Ilustration](mask.png)"
   ]
  },
  {
   "cell_type": "code",
   "execution_count": 13,
   "id": "ab69e7ce-9818-4f86-b48d-cc7f1e31a0ef",
   "metadata": {},
   "outputs": [
    {
     "data": {
      "text/plain": [
       "'\\nloss_mseplus=mseplus(geo)\\n_,_=loss_mseplus(x,y)\\n'"
      ]
     },
     "execution_count": 13,
     "metadata": {},
     "output_type": "execute_result"
    }
   ],
   "source": [
    "\n",
    "def MSEplus(geo):\n",
    "    def loss_fn(u_true,u_pred):\n",
    "            Eps=1e-4\n",
    "            # call method create_mask\n",
    "            u_true_masked, u_pred_masked, Ip_value=create_mask(geo,u_true,u_pred)\n",
    "            e=u_true-u_pred\n",
    "            error = u_true_masked - u_pred_masked\n",
    "            mse = tf.reduce_sum(tf.square(error))\n",
    "        \n",
    "            norm_error = tf.sqrt(tf.reduce_sum(tf.square(error)))\n",
    "            \n",
    "            norm_u_pred=tf.sqrt(tf.reduce_sum(tf.square(u_pred_masked)))\n",
    "            mre=norm_error/(norm_u_pred + Eps)\n",
    "            mre=C*mre\n",
    "            mre=tf.reduce_sum(mre)\n",
    "            # Calculates the MREplus over all pixels outside the obstacle\n",
    "            Mseplus= (mse + mre)/Ip_value\n",
    "    \n",
    "            ###  check the loss inside obstacle\n",
    "            index = tf.where(error == 0.0)\n",
    "            count = tf.reduce_sum(tf.cast(error == 0, tf.float32))\n",
    "        \n",
    "            try:\n",
    "                values = tf.gather_nd(error, index)\n",
    "                mse_obs = tf.reduce_sum(tf.square(values))\n",
    "                norm_obstacle=tf.sqrt(tf.reduce_sum(tf.square(values)))\n",
    "                mre_obs=C*tf.reduce_sum(norm_obstacle/(norm_u_pred + Eps))\n",
    "                error_obs= (mse_obs+mre_obs)/count\n",
    "        \n",
    "            except tf.errors.InvalidArgumentError as e:\n",
    "             print(f\"Error: {e}\")  \n",
    "            return Mseplus,error_obs\n",
    "    return loss_fn\n",
    "        \n",
    "\n",
    "    \n",
    "'''\n",
    "loss_mseplus=mseplus(geo)\n",
    "_,_=loss_mseplus(x,y)\n",
    "'''"
   ]
  },
  {
   "cell_type": "markdown",
   "id": "6bf38333-c5ae-4664-b3f7-417bf6f0d092",
   "metadata": {},
   "source": [
    "### <span style=\"color:red\">7.3 Metric</span>\n",
    "#### Definition of custom metric function MAE+\n",
    "<strong>Implementing a custom metric by subclassing </strong> \n",
    "#### [See tf.keras.Metric](https://www.tensorflow.org/api_docs/python/tf/keras/Metric) \n",
    "\n",
    "<strong>__ init __():</strong> All state variables should be created in this method by calling self.add_variable() like:  \n",
    "self.var = self.add_variable(...)\n",
    "\n",
    "<strong>update_state():</strong> Has all updates to the state variables like: self.var.assign(...).\n",
    "\n",
    "<strong>result():</strong> Computes and returns a scalar value or a dict of scalar values for the metric from the state variables.\n",
    "\n",
    "$$MAE+ = \\frac{1}{|I_P|} \\sum_{p \\in I_P} (\\left\\|u_p - \\hat{u}_p \\right\\|_1 + C  \\frac{ \\left\\| u_p - \\hat{u}_p  \\right\\|_2 }{\\left\\| u_p  \\right\\|_2 + 10^{-4}})$$"
   ]
  },
  {
   "cell_type": "code",
   "execution_count": 14,
   "id": "14bd1ea0-383f-4736-aef9-7f30402c754e",
   "metadata": {},
   "outputs": [],
   "source": [
    "\n",
    "class MAE(tf.keras.metrics.Metric):\n",
    "    \n",
    "    def __init__(self, name=\"MaePlus\", **kwargs):\n",
    "        super().__init__(name=name, **kwargs)\n",
    "        \n",
    "        self.mae_sum = self.add_weight(name=\"mae_sum\", initializer=\"zeros\")\n",
    "        self.total_samples = self.add_weight(name=\"total_samples\", initializer=\"zeros\",dtype=\"int32\")\n",
    "        \n",
    "    def update_state(self, geo, u_true, u_pred, sample_weight=None):\n",
    "        \n",
    "        # Regularizar  \n",
    "          Eps=1e-4\n",
    "          u_true_masked,u_pred_masked, Ip_value=create_mask(geo, u_true,u_pred)\n",
    "          error= u_true_masked  - u_pred_masked\n",
    "          mae= tf.reduce_sum(tf.abs(error))  \n",
    "        \n",
    "          norm_error = tf.sqrt(tf.reduce_sum(tf.square(error)))\n",
    "          norm_u_pred=tf.sqrt(tf.reduce_sum(tf.square(u_pred_masked))) \n",
    "          mre=C*norm_error/(norm_u_pred + Eps)\n",
    "        \n",
    "          mre=tf.reduce_sum(mre)\n",
    "          maeplus=(mae + mre)/Ip_value\n",
    "        \n",
    "          self.mae_sum.assign_add(maeplus)\n",
    "          self.total_samples.assign_add(tf.cast(tf.size(u_true), tf.float32))\n",
    "\n",
    "    def result(self):\n",
    "        return self.mae_sum / tf.cast(self.total_samples, tf.float32)\n",
    "\n",
    "    def reset_states(self):\n",
    "        self.mae_sum.assign(0.0)\n",
    "        self.total_samples.assign(0)\n"
   ]
  },
  {
   "cell_type": "markdown",
   "id": "c0e3a0b4-c666-40b0-aebf-1eaed7a3abfb",
   "metadata": {},
   "source": [
    "### <span style=\"color:red\">7.4 Building a Training Loop</span>\n",
    "[Writing a training loop from tensorflow](https://www.tensorflow.org/guide/keras/writing_a_training_loop_from_scratch)\n",
    "\n",
    "[Effective Tensorflow 2](https://www.tensorflow.org/guide/effective_tf2)\n",
    "\n",
    "[Custom Training Loop github](https://github.com/naveed88375/AI-ML/tree/master/Tensorflow%20Custom%20Training%20Loop)"
   ]
  },
  {
   "cell_type": "code",
   "execution_count": 15,
   "id": "3cc91f3d-4215-4e4a-b3f2-9c0c9924bfe5",
   "metadata": {},
   "outputs": [],
   "source": [
    "'''\n",
    "Gradient descent (with momentum) optimizer\n",
    "\n",
    "momentum:\n",
    "float hyperparameter >= 0 that accelerates gradient descent in the relevant direction and dampens oscillations.\n",
    "0 is vanilla gradient descent. Defaults to 0.0. \n",
    "\n",
    "Update rule for parameter w with gradient g when momentum is 0: w = w - learning_rate * g\n",
    "\n",
    "Update rule when momentum is larger than 0: velocity = momentum * velocity - learning_rate * g,  w = w + velocity\n",
    "'''\n",
    "\n",
    "# Create an instance of the model\n",
    "modelU = U_net(num_classes=NUM_CLASESS)\n",
    "\n",
    "# Instantiate an optimizer\n",
    "optimizer = tf.keras.optimizers.SGD(learning_rate=LR, momentum=0.9)\n",
    "\n",
    "# Prepare the metrics.\n",
    "train_metric = MAE()\n",
    "val_metric = MAE()\n",
    "\n",
    "  "
   ]
  },
  {
   "cell_type": "markdown",
   "id": "c55935f4-ed2c-404c-a1e7-3e4190994d3d",
   "metadata": {},
   "source": [
    "#### [Speeding-up the training step with tf.function](https://keras.io/guides/writing_a_custom_training_loop_in_tensorflow/)\n",
    "Layers and models recursively track any losses created during the forward pass by layers that call self.add_loss(value). The resulting list of scalar loss values are available via the property model.losses at the end of the forward pass."
   ]
  },
  {
   "cell_type": "code",
   "execution_count": 16,
   "id": "0f07c0b1-9f03-4792-955f-23461486d154",
   "metadata": {},
   "outputs": [],
   "source": [
    "# # Writing a step-by-step training loop: the training step function\n",
    "# f(x)=y \n",
    "@tf.function\n",
    "#-----------------------------------------------------------------------------------------------\n",
    "def train_step(x,y):\n",
    "     with tf.GradientTape(persistent=True) as tape:\n",
    "        logits=modelU(x,training=True) \n",
    "         \n",
    "        loss_mseplus=MSEplus(x) # call loss function\n",
    "        mseplus_out,error_in=loss_mseplus(y,logits)\n",
    "        loss_track=sum(modelU.losses)\n",
    "        mseplus_total= mseplus_out+loss_track\n",
    "        \n",
    "        \n",
    "     gradients_mseplus = tape.gradient(mseplus_total, modelU.trainable_variables)\n",
    "     optimizer.apply_gradients(zip(gradients_mseplus, modelU.trainable_variables))\n",
    "    \n",
    "     gradients_error_in = tape.gradient(error_in, modelU.trainable_variables)\n",
    "     optimizer.apply_gradients(zip(gradients_error_in, modelU.trainable_variables))\n",
    "     \n",
    "     logs_train={}\n",
    "     train_metric.update_state(x,y,logits)  # Update the metric\n",
    "\n",
    "     logs_train['MSE+']                 =mseplus_out\n",
    "     logs_train['Total_MSE+']           =mseplus_total\n",
    "     logs_train['Error_inside_obstacle']=error_in\n",
    "     logs_train['Loss_track']           =loss_track\n",
    "     logs_train[train_metric.name]      =train_metric.result()\n",
    "    \n",
    "\n",
    "     return logs_train\n",
    "\n"
   ]
  },
  {
   "cell_type": "code",
   "execution_count": 17,
   "id": "82a73b3d-8dc0-4969-8d15-ccd613eb21aa",
   "metadata": {},
   "outputs": [],
   "source": [
    "@tf.function\n",
    "#-----------------------------------------------------------------------------------------------\n",
    "def test_step(x,y):\n",
    "    logits = modelU(x,training=False)\n",
    "    loss_mseplus=MSEplus(x) # call loss function\n",
    "    mseplus_out,error_in=loss_mseplus(y,logits)\n",
    "    #mseplus_out,error_in=MSEplus(x,y,logits)\n",
    "    logs={}\n",
    "    val_metric.update_state(x,y,logits)\n",
    "    logs['val_mseplus']=mseplus_out\n",
    "    logs[\"val_\" + val_metric.name]= val_metric.result()\n",
    "    logs[\"val_error_inside_obs\"]=error_in\n",
    "    return logs\n"
   ]
  },
  {
   "cell_type": "code",
   "execution_count": 18,
   "id": "39c3ea53-f0ef-4a20-9a30-55b6c8398d36",
   "metadata": {},
   "outputs": [
    {
     "name": "stderr",
     "output_type": "stream",
     "text": [
      "2024-11-24 21:10:09.530347: I tensorflow/core/framework/local_rendezvous.cc:404] Local rendezvous is aborting with status: OUT_OF_RANGE: End of sequence\n",
      "2024-11-24 21:10:11.945850: I tensorflow/core/framework/local_rendezvous.cc:404] Local rendezvous is aborting with status: OUT_OF_RANGE: End of sequence\n"
     ]
    },
    {
     "name": "stdout",
     "output_type": "stream",
     "text": [
      "Epoch 0/150\n",
      "\t...MSE+: 0.3719278276\n",
      "\t...Total_MSE+: 0.3719278276\n",
      "\t...Error_inside_obstacle: 0.0000000000\n",
      "\t...Loss_track: 0.0000000000\n",
      "\t...MaePlus: 0.0000016355\n",
      "\n",
      "\n",
      "\t...val_mseplus: 0.3682837188\n",
      "\t...val_MaePlus: 0.0000016349\n",
      "\t...val_error_inside_obs: 0.0000000000\n"
     ]
    },
    {
     "name": "stderr",
     "output_type": "stream",
     "text": [
      "2024-11-24 21:12:04.689373: I tensorflow/core/framework/local_rendezvous.cc:404] Local rendezvous is aborting with status: OUT_OF_RANGE: End of sequence\n",
      "2024-11-24 21:15:54.391422: I tensorflow/core/framework/local_rendezvous.cc:404] Local rendezvous is aborting with status: OUT_OF_RANGE: End of sequence\n"
     ]
    },
    {
     "name": "stdout",
     "output_type": "stream",
     "text": [
      "Epoch 5/150\n",
      "\t...MSE+: 0.3719278276\n",
      "\t...Total_MSE+: 0.3719278276\n",
      "\t...Error_inside_obstacle: 0.0000000000\n",
      "\t...Loss_track: 0.0000000000\n",
      "\t...MaePlus: 0.0000016378\n",
      "\n",
      "\n",
      "\t...val_mseplus: 0.3682837188\n",
      "\t...val_MaePlus: 0.0000016349\n",
      "\t...val_error_inside_obs: 0.0000000000\n"
     ]
    },
    {
     "name": "stderr",
     "output_type": "stream",
     "text": [
      "2024-11-24 21:23:40.718716: I tensorflow/core/framework/local_rendezvous.cc:404] Local rendezvous is aborting with status: OUT_OF_RANGE: End of sequence\n"
     ]
    },
    {
     "name": "stdout",
     "output_type": "stream",
     "text": [
      "Epoch 10/150\n",
      "\t...MSE+: 0.3719278276\n",
      "\t...Total_MSE+: 0.3719278276\n",
      "\t...Error_inside_obstacle: 0.0000000000\n",
      "\t...Loss_track: 0.0000000000\n",
      "\t...MaePlus: 0.0000016378\n",
      "\n",
      "\n",
      "\t...val_mseplus: 0.3682837188\n",
      "\t...val_MaePlus: 0.0000016349\n",
      "\t...val_error_inside_obs: 0.0000000000\n"
     ]
    },
    {
     "name": "stderr",
     "output_type": "stream",
     "text": [
      "2024-11-24 21:39:17.658009: I tensorflow/core/framework/local_rendezvous.cc:404] Local rendezvous is aborting with status: OUT_OF_RANGE: End of sequence\n"
     ]
    },
    {
     "name": "stdout",
     "output_type": "stream",
     "text": [
      "Epoch 15/150\n",
      "\t...MSE+: 0.3719278276\n",
      "\t...Total_MSE+: 0.3719278276\n",
      "\t...Error_inside_obstacle: 0.0000000000\n",
      "\t...Loss_track: 0.0000000000\n",
      "\t...MaePlus: 0.0000016378\n",
      "\n",
      "\n",
      "\t...val_mseplus: 0.3682837188\n",
      "\t...val_MaePlus: 0.0000016349\n",
      "\t...val_error_inside_obs: 0.0000000000\n",
      "Epoch 20/150\n",
      "\t...MSE+: 0.3719278276\n",
      "\t...Total_MSE+: 0.3719278276\n",
      "\t...Error_inside_obstacle: 0.0000000000\n",
      "\t...Loss_track: 0.0000000000\n",
      "\t...MaePlus: 0.0000016378\n",
      "\n",
      "\n",
      "\t...val_mseplus: 0.3682837188\n",
      "\t...val_MaePlus: 0.0000016349\n",
      "\t...val_error_inside_obs: 0.0000000000\n",
      "Epoch 25/150\n",
      "\t...MSE+: 0.3719278276\n",
      "\t...Total_MSE+: 0.3719278276\n",
      "\t...Error_inside_obstacle: 0.0000000000\n",
      "\t...Loss_track: 0.0000000000\n",
      "\t...MaePlus: 0.0000016378\n",
      "\n",
      "\n",
      "\t...val_mseplus: 0.3682837188\n",
      "\t...val_MaePlus: 0.0000016349\n",
      "\t...val_error_inside_obs: 0.0000000000\n",
      "Epoch 30/150\n",
      "\t...MSE+: 0.3719278276\n",
      "\t...Total_MSE+: 0.3719278276\n",
      "\t...Error_inside_obstacle: 0.0000000000\n",
      "\t...Loss_track: 0.0000000000\n",
      "\t...MaePlus: 0.0000016378\n",
      "\n",
      "\n",
      "\t...val_mseplus: 0.3682837188\n",
      "\t...val_MaePlus: 0.0000016349\n",
      "\t...val_error_inside_obs: 0.0000000000\n"
     ]
    },
    {
     "name": "stderr",
     "output_type": "stream",
     "text": [
      "2024-11-24 22:10:29.773738: I tensorflow/core/framework/local_rendezvous.cc:404] Local rendezvous is aborting with status: OUT_OF_RANGE: End of sequence\n"
     ]
    },
    {
     "name": "stdout",
     "output_type": "stream",
     "text": [
      "Epoch 35/150\n",
      "\t...MSE+: 0.3719278276\n",
      "\t...Total_MSE+: 0.3719278276\n",
      "\t...Error_inside_obstacle: 0.0000000000\n",
      "\t...Loss_track: 0.0000000000\n",
      "\t...MaePlus: 0.0000016378\n",
      "\n",
      "\n",
      "\t...val_mseplus: 0.3682837188\n",
      "\t...val_MaePlus: 0.0000016349\n",
      "\t...val_error_inside_obs: 0.0000000000\n",
      "Epoch 40/150\n",
      "\t...MSE+: 0.3719278276\n",
      "\t...Total_MSE+: 0.3719278276\n",
      "\t...Error_inside_obstacle: 0.0000000000\n",
      "\t...Loss_track: 0.0000000000\n",
      "\t...MaePlus: 0.0000016378\n",
      "\n",
      "\n",
      "\t...val_mseplus: 0.3682837188\n",
      "\t...val_MaePlus: 0.0000016349\n",
      "\t...val_error_inside_obs: 0.0000000000\n",
      "Epoch 45/150\n",
      "\t...MSE+: 0.3719278276\n",
      "\t...Total_MSE+: 0.3719278276\n",
      "\t...Error_inside_obstacle: 0.0000000000\n",
      "\t...Loss_track: 0.0000000000\n",
      "\t...MaePlus: 0.0000016378\n",
      "\n",
      "\n",
      "\t...val_mseplus: 0.3682837188\n",
      "\t...val_MaePlus: 0.0000016349\n",
      "\t...val_error_inside_obs: 0.0000000000\n",
      "Epoch 50/150\n",
      "\t...MSE+: 0.3719278276\n",
      "\t...Total_MSE+: 0.3719278276\n",
      "\t...Error_inside_obstacle: 0.0000000000\n",
      "\t...Loss_track: 0.0000000000\n",
      "\t...MaePlus: 0.0000016378\n",
      "\n",
      "\n",
      "\t...val_mseplus: 0.3682837188\n",
      "\t...val_MaePlus: 0.0000016349\n",
      "\t...val_error_inside_obs: 0.0000000000\n",
      "Epoch 55/150\n",
      "\t...MSE+: 0.3719278276\n",
      "\t...Total_MSE+: 0.3719278276\n",
      "\t...Error_inside_obstacle: 0.0000000000\n",
      "\t...Loss_track: 0.0000000000\n",
      "\t...MaePlus: 0.0000016378\n",
      "\n",
      "\n",
      "\t...val_mseplus: 0.3682837188\n",
      "\t...val_MaePlus: 0.0000016349\n",
      "\t...val_error_inside_obs: 0.0000000000\n",
      "Epoch 60/150\n",
      "\t...MSE+: 0.3719278276\n",
      "\t...Total_MSE+: 0.3719278276\n",
      "\t...Error_inside_obstacle: 0.0000000000\n",
      "\t...Loss_track: 0.0000000000\n",
      "\t...MaePlus: 0.0000016378\n",
      "\n",
      "\n",
      "\t...val_mseplus: 0.3682837188\n",
      "\t...val_MaePlus: 0.0000016349\n",
      "\t...val_error_inside_obs: 0.0000000000\n"
     ]
    },
    {
     "name": "stderr",
     "output_type": "stream",
     "text": [
      "2024-11-24 23:13:57.154041: I tensorflow/core/framework/local_rendezvous.cc:404] Local rendezvous is aborting with status: OUT_OF_RANGE: End of sequence\n"
     ]
    },
    {
     "name": "stdout",
     "output_type": "stream",
     "text": [
      "Epoch 65/150\n",
      "\t...MSE+: 0.3719278276\n",
      "\t...Total_MSE+: 0.3719278276\n",
      "\t...Error_inside_obstacle: 0.0000000000\n",
      "\t...Loss_track: 0.0000000000\n",
      "\t...MaePlus: 0.0000016378\n",
      "\n",
      "\n",
      "\t...val_mseplus: 0.3682837188\n",
      "\t...val_MaePlus: 0.0000016349\n",
      "\t...val_error_inside_obs: 0.0000000000\n",
      "Epoch 70/150\n",
      "\t...MSE+: 0.3719278276\n",
      "\t...Total_MSE+: 0.3719278276\n",
      "\t...Error_inside_obstacle: 0.0000000000\n",
      "\t...Loss_track: 0.0000000000\n",
      "\t...MaePlus: 0.0000016378\n",
      "\n",
      "\n",
      "\t...val_mseplus: 0.3682837188\n",
      "\t...val_MaePlus: 0.0000016349\n",
      "\t...val_error_inside_obs: 0.0000000000\n",
      "Epoch 75/150\n",
      "\t...MSE+: 0.3719278276\n",
      "\t...Total_MSE+: 0.3719278276\n",
      "\t...Error_inside_obstacle: 0.0000000000\n",
      "\t...Loss_track: 0.0000000000\n",
      "\t...MaePlus: 0.0000016378\n",
      "\n",
      "\n",
      "\t...val_mseplus: 0.3682837188\n",
      "\t...val_MaePlus: 0.0000016349\n",
      "\t...val_error_inside_obs: 0.0000000000\n",
      "Epoch 80/150\n",
      "\t...MSE+: 0.3719278276\n",
      "\t...Total_MSE+: 0.3719278276\n",
      "\t...Error_inside_obstacle: 0.0000000000\n",
      "\t...Loss_track: 0.0000000000\n",
      "\t...MaePlus: 0.0000016378\n",
      "\n",
      "\n",
      "\t...val_mseplus: 0.3682837188\n",
      "\t...val_MaePlus: 0.0000016349\n",
      "\t...val_error_inside_obs: 0.0000000000\n",
      "Epoch 85/150\n",
      "\t...MSE+: 0.3719278276\n",
      "\t...Total_MSE+: 0.3719278276\n",
      "\t...Error_inside_obstacle: 0.0000000000\n",
      "\t...Loss_track: 0.0000000000\n",
      "\t...MaePlus: 0.0000016378\n",
      "\n",
      "\n",
      "\t...val_mseplus: 0.3682837188\n",
      "\t...val_MaePlus: 0.0000016349\n",
      "\t...val_error_inside_obs: 0.0000000000\n",
      "Epoch 90/150\n",
      "\t...MSE+: 0.3719278276\n",
      "\t...Total_MSE+: 0.3719278276\n",
      "\t...Error_inside_obstacle: 0.0000000000\n",
      "\t...Loss_track: 0.0000000000\n",
      "\t...MaePlus: 0.0000016378\n",
      "\n",
      "\n",
      "\t...val_mseplus: 0.3682837188\n",
      "\t...val_MaePlus: 0.0000016349\n",
      "\t...val_error_inside_obs: 0.0000000000\n",
      "Epoch 95/150\n",
      "\t...MSE+: 0.3719278276\n",
      "\t...Total_MSE+: 0.3719278276\n",
      "\t...Error_inside_obstacle: 0.0000000000\n",
      "\t...Loss_track: 0.0000000000\n",
      "\t...MaePlus: 0.0000016378\n",
      "\n",
      "\n",
      "\t...val_mseplus: 0.3682837188\n",
      "\t...val_MaePlus: 0.0000016349\n",
      "\t...val_error_inside_obs: 0.0000000000\n",
      "Epoch 100/150\n",
      "\t...MSE+: 0.3719278276\n",
      "\t...Total_MSE+: 0.3719278276\n",
      "\t...Error_inside_obstacle: 0.0000000000\n",
      "\t...Loss_track: 0.0000000000\n",
      "\t...MaePlus: 0.0000016378\n",
      "\n",
      "\n",
      "\t...val_mseplus: 0.3682837188\n",
      "\t...val_MaePlus: 0.0000016349\n",
      "\t...val_error_inside_obs: 0.0000000000\n",
      "Epoch 105/150\n",
      "\t...MSE+: 0.3719278276\n",
      "\t...Total_MSE+: 0.3719278276\n",
      "\t...Error_inside_obstacle: 0.0000000000\n",
      "\t...Loss_track: 0.0000000000\n",
      "\t...MaePlus: 0.0000016378\n",
      "\n",
      "\n",
      "\t...val_mseplus: 0.3682837188\n",
      "\t...val_MaePlus: 0.0000016349\n",
      "\t...val_error_inside_obs: 0.0000000000\n",
      "Epoch 110/150\n",
      "\t...MSE+: 0.3719278276\n",
      "\t...Total_MSE+: 0.3719278276\n",
      "\t...Error_inside_obstacle: 0.0000000000\n",
      "\t...Loss_track: 0.0000000000\n",
      "\t...MaePlus: 0.0000016378\n",
      "\n",
      "\n",
      "\t...val_mseplus: 0.3682837188\n",
      "\t...val_MaePlus: 0.0000016349\n",
      "\t...val_error_inside_obs: 0.0000000000\n",
      "Epoch 115/150\n",
      "\t...MSE+: 0.3719278276\n",
      "\t...Total_MSE+: 0.3719278276\n",
      "\t...Error_inside_obstacle: 0.0000000000\n",
      "\t...Loss_track: 0.0000000000\n",
      "\t...MaePlus: 0.0000016378\n",
      "\n",
      "\n",
      "\t...val_mseplus: 0.3682837188\n",
      "\t...val_MaePlus: 0.0000016349\n",
      "\t...val_error_inside_obs: 0.0000000000\n",
      "Epoch 120/150\n",
      "\t...MSE+: 0.3719278276\n",
      "\t...Total_MSE+: 0.3719278276\n",
      "\t...Error_inside_obstacle: 0.0000000000\n",
      "\t...Loss_track: 0.0000000000\n",
      "\t...MaePlus: 0.0000016378\n",
      "\n",
      "\n",
      "\t...val_mseplus: 0.3682837188\n",
      "\t...val_MaePlus: 0.0000016349\n",
      "\t...val_error_inside_obs: 0.0000000000\n",
      "Epoch 125/150\n",
      "\t...MSE+: 0.3719278276\n",
      "\t...Total_MSE+: 0.3719278276\n",
      "\t...Error_inside_obstacle: 0.0000000000\n",
      "\t...Loss_track: 0.0000000000\n",
      "\t...MaePlus: 0.0000016378\n",
      "\n",
      "\n",
      "\t...val_mseplus: 0.3682837188\n",
      "\t...val_MaePlus: 0.0000016349\n",
      "\t...val_error_inside_obs: 0.0000000000\n"
     ]
    },
    {
     "name": "stderr",
     "output_type": "stream",
     "text": [
      "2024-11-25 01:24:39.232118: I tensorflow/core/framework/local_rendezvous.cc:404] Local rendezvous is aborting with status: OUT_OF_RANGE: End of sequence\n"
     ]
    },
    {
     "name": "stdout",
     "output_type": "stream",
     "text": [
      "Epoch 130/150\n",
      "\t...MSE+: 0.3719278276\n",
      "\t...Total_MSE+: 0.3719278276\n",
      "\t...Error_inside_obstacle: 0.0000000000\n",
      "\t...Loss_track: 0.0000000000\n",
      "\t...MaePlus: 0.0000016378\n",
      "\n",
      "\n",
      "\t...val_mseplus: 0.3682837188\n",
      "\t...val_MaePlus: 0.0000016349\n",
      "\t...val_error_inside_obs: 0.0000000000\n",
      "Epoch 135/150\n",
      "\t...MSE+: 0.3719278276\n",
      "\t...Total_MSE+: 0.3719278276\n",
      "\t...Error_inside_obstacle: 0.0000000000\n",
      "\t...Loss_track: 0.0000000000\n",
      "\t...MaePlus: 0.0000016378\n",
      "\n",
      "\n",
      "\t...val_mseplus: 0.3682837188\n",
      "\t...val_MaePlus: 0.0000016349\n",
      "\t...val_error_inside_obs: 0.0000000000\n",
      "Epoch 140/150\n",
      "\t...MSE+: 0.3719278276\n",
      "\t...Total_MSE+: 0.3719278276\n",
      "\t...Error_inside_obstacle: 0.0000000000\n",
      "\t...Loss_track: 0.0000000000\n",
      "\t...MaePlus: 0.0000016378\n",
      "\n",
      "\n",
      "\t...val_mseplus: 0.3682837188\n",
      "\t...val_MaePlus: 0.0000016349\n",
      "\t...val_error_inside_obs: 0.0000000000\n",
      "Epoch 145/150\n",
      "\t...MSE+: 0.3719278276\n",
      "\t...Total_MSE+: 0.3719278276\n",
      "\t...Error_inside_obstacle: 0.0000000000\n",
      "\t...Loss_track: 0.0000000000\n",
      "\t...MaePlus: 0.0000016378\n",
      "\n",
      "\n",
      "\t...val_mseplus: 0.3682837188\n",
      "\t...val_MaePlus: 0.0000016349\n",
      "\t...val_error_inside_obs: 0.0000000000\n",
      "\n",
      "****** Time taken: 126.69s\n"
     ]
    },
    {
     "ename": "NameError",
     "evalue": "name 'modeloU' is not defined",
     "output_type": "error",
     "traceback": [
      "\u001b[0;31m---------------------------------------------------------------------------\u001b[0m",
      "\u001b[0;31mNameError\u001b[0m                                 Traceback (most recent call last)",
      "Cell \u001b[0;32mIn[18], line 74\u001b[0m\n\u001b[1;32m     70\u001b[0m              \u001b[38;5;28mprint\u001b[39m(\u001b[38;5;124mf\u001b[39m\u001b[38;5;124m\"\u001b[39m\u001b[38;5;130;01m\\t\u001b[39;00m\u001b[38;5;124m...\u001b[39m\u001b[38;5;132;01m{\u001b[39;00mkey\u001b[38;5;132;01m}\u001b[39;00m\u001b[38;5;124m: \u001b[39m\u001b[38;5;132;01m{\u001b[39;00mvalue\u001b[38;5;132;01m:\u001b[39;00m\u001b[38;5;124m.10f\u001b[39m\u001b[38;5;132;01m}\u001b[39;00m\u001b[38;5;124m\"\u001b[39m)\n\u001b[1;32m     72\u001b[0m \u001b[38;5;28mprint\u001b[39m(\u001b[38;5;124m\"\u001b[39m\u001b[38;5;130;01m\\n\u001b[39;00m\u001b[38;5;124m****** Time taken: \u001b[39m\u001b[38;5;132;01m%.2f\u001b[39;00m\u001b[38;5;124ms\u001b[39m\u001b[38;5;124m\"\u001b[39m \u001b[38;5;241m%\u001b[39m (time\u001b[38;5;241m.\u001b[39mtime() \u001b[38;5;241m-\u001b[39m start_time))   \n\u001b[0;32m---> 74\u001b[0m \u001b[43mmodeloU\u001b[49m\u001b[38;5;241m.\u001b[39msave_weights(\u001b[38;5;124m'\u001b[39m\u001b[38;5;124mWeight_model_ver3.5_ex_1.h5\u001b[39m\u001b[38;5;124m'\u001b[39m)\n\u001b[1;32m     75\u001b[0m \u001b[38;5;66;03m# nuevo_modelo.load_weights('pesos_modelo.h5')\u001b[39;00m\n",
      "\u001b[0;31mNameError\u001b[0m: name 'modeloU' is not defined"
     ]
    }
   ],
   "source": [
    "# ===============================================================================\n",
    "# Writing a step-by-step training loop: the loop itself  \n",
    "total_mseplus=[]\n",
    "total_error=[]\n",
    "total_metric=[]\n",
    "losses_track=[]\n",
    "mseplus=[]\n",
    "\n",
    "val_total_mseplus=[]\n",
    "val_total_error=[]\n",
    "val_total_metric=[]\n",
    "\n",
    "for epoch in range(EPOCHS):\n",
    "    start_time = time.time()\n",
    "    \n",
    "    Tmseplus=0\n",
    "    error_obs=0\n",
    "    metric=0\n",
    "    l_t=0\n",
    "    Mseplus=0\n",
    "\n",
    "    # Call to exponential_decay function\n",
    "    currLr = exponential_decay(epoch,EPOCHS)\n",
    "    if currLr < LR:\n",
    "       optimizer.learning_rate=currLr\n",
    "    #--------------------------------------------------------------------------------\n",
    "    for step, (x_train,y_train) in enumerate(trainLoader):\n",
    "            logs_train=train_step(x_train,y_train)\n",
    "        \n",
    "            Mseplus   += logs_train['MSE+']\n",
    "            Tmseplus  += logs_train['Total_MSE+']\n",
    "            error_obs += logs_train['Error_inside_obstacle']\n",
    "            l_t       += logs_train['Loss_track']\n",
    "            metric    += logs_train[train_metric.name]\n",
    "\n",
    " \n",
    "    mseplus      +=[Mseplus/len(trainLoader)]    \n",
    "    total_mseplus+=[Tmseplus/len(trainLoader)]\n",
    "    total_error  +=[metric/len(trainLoader)]\n",
    "    total_metric += [error_obs/len(trainLoader)]\n",
    "    losses_track += [l_t/len(trainLoader)]\n",
    "    \n",
    "    train_metric.reset_state() ##corregir\n",
    "\n",
    "# =======================================================================================\n",
    "#  Writing a step-by-step evaluation loop   \n",
    "    val_mseplus=0\n",
    "    val_error_obs=0\n",
    "    metric_val=0\n",
    "\n",
    "    for step, (x_val,y_val) in enumerate(valiLoader):\n",
    "        logs_val = test_step(x_val, y_val)\n",
    "        \n",
    "      \n",
    "        val_mseplus += logs_val['val_mseplus']\n",
    "        val_error_obs += logs_val[\"val_\" + val_metric.name]\n",
    "        metric_val += logs_val[\"val_error_inside_obs\"]\n",
    "  \n",
    "    val_total_mseplus+=[val_mseplus/len(valiLoader)]\n",
    "    val_total_error+=[ metric_val/len(valiLoader)]\n",
    "    val_total_metric += [val_error_obs/len(valiLoader)]\n",
    "    val_metric.reset_states()  \n",
    "    \n",
    "    if epoch<1 or epoch%5==0:\n",
    "        print(f'Epoch {epoch}/{EPOCHS}')  \n",
    "        for key, value in logs_train.items():\n",
    "             print(f\"\\t...{key}: {value:.10f}\")\n",
    "        print('\\n')    \n",
    "        for key, value in logs_val.items():\n",
    "             print(f\"\\t...{key}: {value:.10f}\")\n",
    "            \n",
    "print(\"\\n****** Time taken: %.2fs\" % (time.time() - start_time))   \n",
    "\n"
   ]
  },
  {
   "cell_type": "code",
   "execution_count": 20,
   "id": "1acc92b1-d841-45d9-989d-3c67090c9a76",
   "metadata": {},
   "outputs": [],
   "source": [
    "modelU.save_weights('Weight_model_ver3.5_ex_1.weights.h5')\n",
    "# nuevo_modelo.load_weights('pesos_modelo.h5')"
   ]
  },
  {
   "cell_type": "markdown",
   "id": "c0ea44de-163b-4784-ad2d-3b8fac26f04f",
   "metadata": {},
   "source": [
    "#### Number of trainable parameters"
   ]
  },
  {
   "cell_type": "code",
   "execution_count": 21,
   "id": "54828f40-5c9c-4dc1-8048-88dc7fa63eaf",
   "metadata": {},
   "outputs": [
    {
     "name": "stdout",
     "output_type": "stream",
     "text": [
      "The U-Net has 28589185 parameters.\n"
     ]
    },
    {
     "data": {
      "text/html": [
       "<pre style=\"white-space:pre;overflow-x:auto;line-height:normal;font-family:Menlo,'DejaVu Sans Mono',consolas,'Courier New',monospace\"><span style=\"font-weight: bold\">Model: \"u_net\"</span>\n",
       "</pre>\n"
      ],
      "text/plain": [
       "\u001b[1mModel: \"u_net\"\u001b[0m\n"
      ]
     },
     "metadata": {},
     "output_type": "display_data"
    },
    {
     "data": {
      "text/html": [
       "<pre style=\"white-space:pre;overflow-x:auto;line-height:normal;font-family:Menlo,'DejaVu Sans Mono',consolas,'Courier New',monospace\">┏━━━━━━━━━━━━━━━━━━━━━━━━━━━━━━━━━┳━━━━━━━━━━━━━━━━━━━━━━━━┳━━━━━━━━━━━━━━━┓\n",
       "┃<span style=\"font-weight: bold\"> Layer (type)                    </span>┃<span style=\"font-weight: bold\"> Output Shape           </span>┃<span style=\"font-weight: bold\">       Param # </span>┃\n",
       "┡━━━━━━━━━━━━━━━━━━━━━━━━━━━━━━━━━╇━━━━━━━━━━━━━━━━━━━━━━━━╇━━━━━━━━━━━━━━━┩\n",
       "│ Encoder_part (<span style=\"color: #0087ff; text-decoration-color: #0087ff\">Sequential</span>)       │ (10, 128, 256, 64)     │        <span style=\"color: #00af00; text-decoration-color: #00af00\">38,080</span> │\n",
       "├─────────────────────────────────┼────────────────────────┼───────────────┤\n",
       "│ max_pooling2d (<span style=\"color: #0087ff; text-decoration-color: #0087ff\">MaxPooling2D</span>)    │ (<span style=\"color: #00af00; text-decoration-color: #00af00\">10</span>, <span style=\"color: #00af00; text-decoration-color: #00af00\">64</span>, <span style=\"color: #00af00; text-decoration-color: #00af00\">128</span>, <span style=\"color: #00af00; text-decoration-color: #00af00\">64</span>)      │             <span style=\"color: #00af00; text-decoration-color: #00af00\">0</span> │\n",
       "├─────────────────────────────────┼────────────────────────┼───────────────┤\n",
       "│ Encoder_part (<span style=\"color: #0087ff; text-decoration-color: #0087ff\">Sequential</span>)       │ (10, 64, 128, 128)     │       <span style=\"color: #00af00; text-decoration-color: #00af00\">222,464</span> │\n",
       "├─────────────────────────────────┼────────────────────────┼───────────────┤\n",
       "│ max_pooling2d_1 (<span style=\"color: #0087ff; text-decoration-color: #0087ff\">MaxPooling2D</span>)  │ (<span style=\"color: #00af00; text-decoration-color: #00af00\">10</span>, <span style=\"color: #00af00; text-decoration-color: #00af00\">32</span>, <span style=\"color: #00af00; text-decoration-color: #00af00\">64</span>, <span style=\"color: #00af00; text-decoration-color: #00af00\">128</span>)      │             <span style=\"color: #00af00; text-decoration-color: #00af00\">0</span> │\n",
       "├─────────────────────────────────┼────────────────────────┼───────────────┤\n",
       "│ Encoder_part (<span style=\"color: #0087ff; text-decoration-color: #0087ff\">Sequential</span>)       │ (10, 32, 64, 256)      │       <span style=\"color: #00af00; text-decoration-color: #00af00\">887,296</span> │\n",
       "├─────────────────────────────────┼────────────────────────┼───────────────┤\n",
       "│ max_pooling2d_2 (<span style=\"color: #0087ff; text-decoration-color: #0087ff\">MaxPooling2D</span>)  │ (<span style=\"color: #00af00; text-decoration-color: #00af00\">10</span>, <span style=\"color: #00af00; text-decoration-color: #00af00\">16</span>, <span style=\"color: #00af00; text-decoration-color: #00af00\">32</span>, <span style=\"color: #00af00; text-decoration-color: #00af00\">256</span>)      │             <span style=\"color: #00af00; text-decoration-color: #00af00\">0</span> │\n",
       "├─────────────────────────────────┼────────────────────────┼───────────────┤\n",
       "│ Encoder_part (<span style=\"color: #0087ff; text-decoration-color: #0087ff\">Sequential</span>)       │ (10, 16, 32, 512)      │     <span style=\"color: #00af00; text-decoration-color: #00af00\">3,544,064</span> │\n",
       "├─────────────────────────────────┼────────────────────────┼───────────────┤\n",
       "│ max_pooling2d_3 (<span style=\"color: #0087ff; text-decoration-color: #0087ff\">MaxPooling2D</span>)  │ (<span style=\"color: #00af00; text-decoration-color: #00af00\">10</span>, <span style=\"color: #00af00; text-decoration-color: #00af00\">8</span>, <span style=\"color: #00af00; text-decoration-color: #00af00\">16</span>, <span style=\"color: #00af00; text-decoration-color: #00af00\">512</span>)       │             <span style=\"color: #00af00; text-decoration-color: #00af00\">0</span> │\n",
       "├─────────────────────────────────┼────────────────────────┼───────────────┤\n",
       "│ conv2d_8 (<span style=\"color: #0087ff; text-decoration-color: #0087ff\">Conv2D</span>)               │ (<span style=\"color: #00af00; text-decoration-color: #00af00\">10</span>, <span style=\"color: #00af00; text-decoration-color: #00af00\">8</span>, <span style=\"color: #00af00; text-decoration-color: #00af00\">16</span>, <span style=\"color: #00af00; text-decoration-color: #00af00\">1024</span>)      │     <span style=\"color: #00af00; text-decoration-color: #00af00\">4,719,616</span> │\n",
       "├─────────────────────────────────┼────────────────────────┼───────────────┤\n",
       "│ conv2d_9 (<span style=\"color: #0087ff; text-decoration-color: #0087ff\">Conv2D</span>)               │ (<span style=\"color: #00af00; text-decoration-color: #00af00\">10</span>, <span style=\"color: #00af00; text-decoration-color: #00af00\">8</span>, <span style=\"color: #00af00; text-decoration-color: #00af00\">16</span>, <span style=\"color: #00af00; text-decoration-color: #00af00\">1024</span>)      │     <span style=\"color: #00af00; text-decoration-color: #00af00\">9,438,208</span> │\n",
       "├─────────────────────────────────┼────────────────────────┼───────────────┤\n",
       "│ decoder_part (<span style=\"color: #0087ff; text-decoration-color: #0087ff\">Sequential</span>)       │ (10, 16, 32, 512)      │     <span style=\"color: #00af00; text-decoration-color: #00af00\">6,817,280</span> │\n",
       "├─────────────────────────────────┼────────────────────────┼───────────────┤\n",
       "│ decoder_part (<span style=\"color: #0087ff; text-decoration-color: #0087ff\">Sequential</span>)       │ (10, 32, 64, 256)      │     <span style=\"color: #00af00; text-decoration-color: #00af00\">2,228,992</span> │\n",
       "├─────────────────────────────────┼────────────────────────┼───────────────┤\n",
       "│ decoder_part (<span style=\"color: #0087ff; text-decoration-color: #0087ff\">Sequential</span>)       │ (10, 64, 128, 128)     │       <span style=\"color: #00af00; text-decoration-color: #00af00\">557,440</span> │\n",
       "├─────────────────────────────────┼────────────────────────┼───────────────┤\n",
       "│ decoder_part (<span style=\"color: #0087ff; text-decoration-color: #0087ff\">Sequential</span>)       │ (10, 128, 256, 64)     │       <span style=\"color: #00af00; text-decoration-color: #00af00\">139,456</span> │\n",
       "├─────────────────────────────────┼────────────────────────┼───────────────┤\n",
       "│ conv2d_18 (<span style=\"color: #0087ff; text-decoration-color: #0087ff\">Conv2D</span>)              │ (<span style=\"color: #00af00; text-decoration-color: #00af00\">10</span>, <span style=\"color: #00af00; text-decoration-color: #00af00\">128</span>, <span style=\"color: #00af00; text-decoration-color: #00af00\">256</span>, <span style=\"color: #00af00; text-decoration-color: #00af00\">1</span>)      │           <span style=\"color: #00af00; text-decoration-color: #00af00\">129</span> │\n",
       "└─────────────────────────────────┴────────────────────────┴───────────────┘\n",
       "</pre>\n"
      ],
      "text/plain": [
       "┏━━━━━━━━━━━━━━━━━━━━━━━━━━━━━━━━━┳━━━━━━━━━━━━━━━━━━━━━━━━┳━━━━━━━━━━━━━━━┓\n",
       "┃\u001b[1m \u001b[0m\u001b[1mLayer (type)                   \u001b[0m\u001b[1m \u001b[0m┃\u001b[1m \u001b[0m\u001b[1mOutput Shape          \u001b[0m\u001b[1m \u001b[0m┃\u001b[1m \u001b[0m\u001b[1m      Param #\u001b[0m\u001b[1m \u001b[0m┃\n",
       "┡━━━━━━━━━━━━━━━━━━━━━━━━━━━━━━━━━╇━━━━━━━━━━━━━━━━━━━━━━━━╇━━━━━━━━━━━━━━━┩\n",
       "│ Encoder_part (\u001b[38;5;33mSequential\u001b[0m)       │ (10, 128, 256, 64)     │        \u001b[38;5;34m38,080\u001b[0m │\n",
       "├─────────────────────────────────┼────────────────────────┼───────────────┤\n",
       "│ max_pooling2d (\u001b[38;5;33mMaxPooling2D\u001b[0m)    │ (\u001b[38;5;34m10\u001b[0m, \u001b[38;5;34m64\u001b[0m, \u001b[38;5;34m128\u001b[0m, \u001b[38;5;34m64\u001b[0m)      │             \u001b[38;5;34m0\u001b[0m │\n",
       "├─────────────────────────────────┼────────────────────────┼───────────────┤\n",
       "│ Encoder_part (\u001b[38;5;33mSequential\u001b[0m)       │ (10, 64, 128, 128)     │       \u001b[38;5;34m222,464\u001b[0m │\n",
       "├─────────────────────────────────┼────────────────────────┼───────────────┤\n",
       "│ max_pooling2d_1 (\u001b[38;5;33mMaxPooling2D\u001b[0m)  │ (\u001b[38;5;34m10\u001b[0m, \u001b[38;5;34m32\u001b[0m, \u001b[38;5;34m64\u001b[0m, \u001b[38;5;34m128\u001b[0m)      │             \u001b[38;5;34m0\u001b[0m │\n",
       "├─────────────────────────────────┼────────────────────────┼───────────────┤\n",
       "│ Encoder_part (\u001b[38;5;33mSequential\u001b[0m)       │ (10, 32, 64, 256)      │       \u001b[38;5;34m887,296\u001b[0m │\n",
       "├─────────────────────────────────┼────────────────────────┼───────────────┤\n",
       "│ max_pooling2d_2 (\u001b[38;5;33mMaxPooling2D\u001b[0m)  │ (\u001b[38;5;34m10\u001b[0m, \u001b[38;5;34m16\u001b[0m, \u001b[38;5;34m32\u001b[0m, \u001b[38;5;34m256\u001b[0m)      │             \u001b[38;5;34m0\u001b[0m │\n",
       "├─────────────────────────────────┼────────────────────────┼───────────────┤\n",
       "│ Encoder_part (\u001b[38;5;33mSequential\u001b[0m)       │ (10, 16, 32, 512)      │     \u001b[38;5;34m3,544,064\u001b[0m │\n",
       "├─────────────────────────────────┼────────────────────────┼───────────────┤\n",
       "│ max_pooling2d_3 (\u001b[38;5;33mMaxPooling2D\u001b[0m)  │ (\u001b[38;5;34m10\u001b[0m, \u001b[38;5;34m8\u001b[0m, \u001b[38;5;34m16\u001b[0m, \u001b[38;5;34m512\u001b[0m)       │             \u001b[38;5;34m0\u001b[0m │\n",
       "├─────────────────────────────────┼────────────────────────┼───────────────┤\n",
       "│ conv2d_8 (\u001b[38;5;33mConv2D\u001b[0m)               │ (\u001b[38;5;34m10\u001b[0m, \u001b[38;5;34m8\u001b[0m, \u001b[38;5;34m16\u001b[0m, \u001b[38;5;34m1024\u001b[0m)      │     \u001b[38;5;34m4,719,616\u001b[0m │\n",
       "├─────────────────────────────────┼────────────────────────┼───────────────┤\n",
       "│ conv2d_9 (\u001b[38;5;33mConv2D\u001b[0m)               │ (\u001b[38;5;34m10\u001b[0m, \u001b[38;5;34m8\u001b[0m, \u001b[38;5;34m16\u001b[0m, \u001b[38;5;34m1024\u001b[0m)      │     \u001b[38;5;34m9,438,208\u001b[0m │\n",
       "├─────────────────────────────────┼────────────────────────┼───────────────┤\n",
       "│ decoder_part (\u001b[38;5;33mSequential\u001b[0m)       │ (10, 16, 32, 512)      │     \u001b[38;5;34m6,817,280\u001b[0m │\n",
       "├─────────────────────────────────┼────────────────────────┼───────────────┤\n",
       "│ decoder_part (\u001b[38;5;33mSequential\u001b[0m)       │ (10, 32, 64, 256)      │     \u001b[38;5;34m2,228,992\u001b[0m │\n",
       "├─────────────────────────────────┼────────────────────────┼───────────────┤\n",
       "│ decoder_part (\u001b[38;5;33mSequential\u001b[0m)       │ (10, 64, 128, 128)     │       \u001b[38;5;34m557,440\u001b[0m │\n",
       "├─────────────────────────────────┼────────────────────────┼───────────────┤\n",
       "│ decoder_part (\u001b[38;5;33mSequential\u001b[0m)       │ (10, 128, 256, 64)     │       \u001b[38;5;34m139,456\u001b[0m │\n",
       "├─────────────────────────────────┼────────────────────────┼───────────────┤\n",
       "│ conv2d_18 (\u001b[38;5;33mConv2D\u001b[0m)              │ (\u001b[38;5;34m10\u001b[0m, \u001b[38;5;34m128\u001b[0m, \u001b[38;5;34m256\u001b[0m, \u001b[38;5;34m1\u001b[0m)      │           \u001b[38;5;34m129\u001b[0m │\n",
       "└─────────────────────────────────┴────────────────────────┴───────────────┘\n"
      ]
     },
     "metadata": {},
     "output_type": "display_data"
    },
    {
     "data": {
      "text/html": [
       "<pre style=\"white-space:pre;overflow-x:auto;line-height:normal;font-family:Menlo,'DejaVu Sans Mono',consolas,'Courier New',monospace\"><span style=\"font-weight: bold\"> Total params: </span><span style=\"color: #00af00; text-decoration-color: #00af00\">28,593,025</span> (109.07 MB)\n",
       "</pre>\n"
      ],
      "text/plain": [
       "\u001b[1m Total params: \u001b[0m\u001b[38;5;34m28,593,025\u001b[0m (109.07 MB)\n"
      ]
     },
     "metadata": {},
     "output_type": "display_data"
    },
    {
     "data": {
      "text/html": [
       "<pre style=\"white-space:pre;overflow-x:auto;line-height:normal;font-family:Menlo,'DejaVu Sans Mono',consolas,'Courier New',monospace\"><span style=\"font-weight: bold\"> Trainable params: </span><span style=\"color: #00af00; text-decoration-color: #00af00\">28,589,185</span> (109.06 MB)\n",
       "</pre>\n"
      ],
      "text/plain": [
       "\u001b[1m Trainable params: \u001b[0m\u001b[38;5;34m28,589,185\u001b[0m (109.06 MB)\n"
      ]
     },
     "metadata": {},
     "output_type": "display_data"
    },
    {
     "data": {
      "text/html": [
       "<pre style=\"white-space:pre;overflow-x:auto;line-height:normal;font-family:Menlo,'DejaVu Sans Mono',consolas,'Courier New',monospace\"><span style=\"font-weight: bold\"> Non-trainable params: </span><span style=\"color: #00af00; text-decoration-color: #00af00\">3,840</span> (15.00 KB)\n",
       "</pre>\n"
      ],
      "text/plain": [
       "\u001b[1m Non-trainable params: \u001b[0m\u001b[38;5;34m3,840\u001b[0m (15.00 KB)\n"
      ]
     },
     "metadata": {},
     "output_type": "display_data"
    }
   ],
   "source": [
    "num_params = np.sum([np.prod(v.shape.as_list()) for v in modelU.trainable_variables])\n",
    "print('The U-Net has {} parameters.'.format(num_params)) \n",
    "modelU.summary()"
   ]
  },
  {
   "cell_type": "markdown",
   "id": "3da009aa-bf07-4aa7-9ef4-38001af28f82",
   "metadata": {},
   "source": [
    "## <span style=\"color:blue\">8. Visualizing results</span>"
   ]
  },
  {
   "cell_type": "code",
   "execution_count": 26,
   "id": "4739627c-bebc-4509-b199-bc16e555d7f9",
   "metadata": {},
   "outputs": [
    {
     "data": {
      "image/png": "[encoded data removed]",
      "text/plain": [
       "<Figure size 1600x500 with 4 Axes>"
      ]
     },
     "metadata": {},
     "output_type": "display_data"
    }
   ],
   "source": [
    "#fig, (ax,ax1,ax2) = plt.subplots(3, 1,layout='constrained')\n",
    "#fig, (ax1,ax2,ax) =plt.subplots(1, 3, figsize=(16, 5),layout='constrained')\n",
    "fig, axs =plt.subplots(2, 2, figsize=(16, 5),layout='constrained')\n",
    "ax1, ax2, ax3, ax4 = axs.ravel()\n",
    "ax1.plot(mseplus,color='red',label='Train')\n",
    "ax1.plot(val_total_mseplus,color='blue',label='Val')\n",
    "ax1.set_title('MSE+ Loss')\n",
    "ax1.set_xlabel('Epochs')\n",
    "ax1.set_ylabel('MSE+')\n",
    "ax1.legend()\n",
    "#---------------------------------------------------------\n",
    "ax2.plot(total_mseplus,color='red',label='Total_MSE+')\n",
    "ax2.plot(mseplus,color='blue',label='MSE+')\n",
    "ax2.plot(losses_track ,color='green',label='Loss_track')\n",
    "ax2.set_title('Losses Train')\n",
    "ax2.set_xlabel('Epochs')\n",
    "ax2.set_ylabel('Losses')\n",
    "ax2.legend()\n",
    "#--------------------------------------------------------------------\n",
    "ax3.plot(total_metric,color='red',label='Train')\n",
    "ax3.plot(val_total_metric,color='blue',label='val')\n",
    "ax3.set_title('MAE+ Metric')\n",
    "ax3.set_xlabel('Epochs')\n",
    "ax3.set_ylabel('MAE+')\n",
    "ax3.legend()\n",
    "\n",
    "ax4.plot(total_error,color='black',label='Error_inside_obstacle')\n",
    "ax4.set_xlabel('Epochs')\n",
    "ax4.set_ylabel('MSE+')\n",
    "ax4.legend()\n",
    "plt.savefig(\"Results.png\", dpi=300, bbox_inches='tight')"
   ]
  },
  {
   "cell_type": "markdown",
   "id": "5ec44d13-3b46-4a8b-b78a-1c43c9d5b80d",
   "metadata": {},
   "source": [
    "## <span style=\"color:blue\">9. Statistics</span>"
   ]
  },
  {
   "cell_type": "code",
   "execution_count": 29,
   "id": "aba59ec6-4b03-49a5-8f40-2c0470b23bbc",
   "metadata": {},
   "outputs": [
    {
     "name": "stdout",
     "output_type": "stream",
     "text": [
      "\n",
      " Dataframe\n",
      "   Epoch  MSE+ Train  Loss Track Train  Total MSE+ Train  MSE+ Val  \\\n",
      "0      0    0.376823               0.0          0.376823  0.369234   \n",
      "1      1    0.370097               0.0          0.370097  0.369234   \n",
      "2      2    0.370097               0.0          0.370097  0.369234   \n",
      "3      3    0.370097               0.0          0.370097  0.369234   \n",
      "4      4    0.370097               0.0          0.370097  0.369234   \n",
      "5      5    0.370097               0.0          0.370097  0.369234   \n",
      "6      6    0.370097               0.0          0.370097  0.369234   \n",
      "7      7    0.370097               0.0          0.370097  0.369234   \n",
      "8      8    0.370097               0.0          0.370097  0.369234   \n",
      "9      9    0.370097               0.0          0.370097  0.369234   \n",
      "\n",
      "   MAE+ Train  MAE+ Val  MSE+ Obstacle  \n",
      "0         0.0  0.000002       0.000002  \n",
      "1         0.0  0.000002       0.000002  \n",
      "2         0.0  0.000002       0.000002  \n",
      "3         0.0  0.000002       0.000002  \n",
      "4         0.0  0.000002       0.000002  \n",
      "5         0.0  0.000002       0.000002  \n",
      "6         0.0  0.000002       0.000002  \n",
      "7         0.0  0.000002       0.000002  \n",
      "8         0.0  0.000002       0.000002  \n",
      "9         0.0  0.000002       0.000002  \n",
      "\n",
      " Statistics\n",
      "       MSE+ Train  Loss Track Train  Total MSE+ Train    MSE+ Val  MAE+ Train  \\\n",
      "count  150.000000             150.0        150.000000  150.000000       150.0   \n",
      "mean     0.370142               0.0          0.370142    0.369234         0.0   \n",
      "std      0.000549               0.0          0.000549    0.000000         0.0   \n",
      "min      0.370097               0.0          0.370097    0.369234         0.0   \n",
      "25%      0.370097               0.0          0.370097    0.369234         0.0   \n",
      "50%      0.370097               0.0          0.370097    0.369234         0.0   \n",
      "75%      0.370097               0.0          0.370097    0.369234         0.0   \n",
      "max      0.376823               0.0          0.376823    0.369234         0.0   \n",
      "\n",
      "         MAE+ Val  MSE+ Obstacle  \n",
      "count  150.000000   1.500000e+02  \n",
      "mean     0.000002   1.637933e-06  \n",
      "std      0.000000   8.030005e-10  \n",
      "min      0.000002   1.628163e-06  \n",
      "25%      0.000002   1.637998e-06  \n",
      "50%      0.000002   1.637998e-06  \n",
      "75%      0.000002   1.637998e-06  \n",
      "max      0.000002   1.637998e-06  \n"
     ]
    }
   ],
   "source": [
    "\n",
    "results = {\n",
    "    'Epoch':list(range(EPOCHS)),\n",
    "    'MSE+ Train':[tensor.numpy() for tensor in mseplus],\n",
    "    'Loss Track Train':[tensor.numpy() for tensor in losses_track],\n",
    "    'Total MSE+ Train':[ tensor.numpy() for tensor in total_mseplus],\n",
    "    'MSE+ Val':[tensor.numpy() for tensor in val_total_mseplus] ,\n",
    "    'MAE+ Train':[tensor.numpy() for tensor in total_metric] ,\n",
    "    'MAE+ Val': [tensor.numpy() for tensor in val_total_metric] ,\n",
    "    'MSE+ Obstacle': [tensor.numpy() for tensor in total_error] \n",
    "}\n",
    "\n",
    "df = pd.DataFrame(results)\n",
    "print('\\n Dataframe')\n",
    "print(df.head(10))\n",
    "print('\\n Statistics')\n",
    "stats = df[['MSE+ Train', 'Loss Track Train','Total MSE+ Train','MSE+ Val','MAE+ Train','MAE+ Val','MSE+ Obstacle']].describe()\n",
    "print(stats)\n",
    "\n"
   ]
  },
  {
   "cell_type": "markdown",
   "id": "a8ca5b1c-9bc0-46b3-a673-4f2524b1f5c2",
   "metadata": {},
   "source": [
    "## <span style=\"color:blue\">10. Predictions</span>"
   ]
  },
  {
   "cell_type": "code",
   "execution_count": 30,
   "id": "f2f885d9-b714-4b9d-9999-60a70e512485",
   "metadata": {},
   "outputs": [
    {
     "name": "stdout",
     "output_type": "stream",
     "text": [
      "\u001b[1m2/2\u001b[0m \u001b[32m━━━━━━━━━━━━━━━━━━━━\u001b[0m\u001b[37m\u001b[0m \u001b[1m3s\u001b[0m 976ms/step\n"
     ]
    }
   ],
   "source": [
    "u_predictions = modelU.predict(geo_array_tests) "
   ]
  },
  {
   "cell_type": "code",
   "execution_count": 33,
   "id": "85517f30-04a9-4e6d-bc41-5baf90e1554e",
   "metadata": {},
   "outputs": [
    {
     "data": {
      "image/png": "[encoded data removed]",
      "text/plain": [
       "<Figure size 1600x500 with 3 Axes>"
      ]
     },
     "metadata": {},
     "output_type": "display_data"
    }
   ],
   "source": [
    "NUM=random.sample(range(1, u_predictions.shape[0]), 1)\n",
    "plot(geo_array_train[NUM[0]],mag_array_train[NUM[0]], u_predictions[NUM[0]],title=f\"Prediction N°{NUM[0]}\",opt='mask')"
   ]
  },
  {
   "cell_type": "code",
   "execution_count": 35,
   "id": "e0e1da0a-f6d6-431a-a5d3-18fb54813220",
   "metadata": {},
   "outputs": [
    {
     "data": {
      "image/png": "[encoded data removed]",
      "text/plain": [
       "<Figure size 1600x500 with 3 Axes>"
      ]
     },
     "metadata": {},
     "output_type": "display_data"
    }
   ],
   "source": [
    "NUM=random.sample(range(1, u_predictions.shape[0]), 1)\n",
    "plot(geo_array_train[NUM[0]],mag_array_train[NUM[0]], u_predictions[NUM[0]],title=f\"Prediction N°{NUM[0]}\",opt='mask')"
   ]
  },
  {
   "cell_type": "code",
   "execution_count": 36,
   "id": "0a6b453a-c8a1-41f8-a8e5-85a020d1fef1",
   "metadata": {},
   "outputs": [
    {
     "data": {
      "image/png": "[encoded data removed]",
      "text/plain": [
       "<Figure size 1600x500 with 3 Axes>"
      ]
     },
     "metadata": {},
     "output_type": "display_data"
    }
   ],
   "source": [
    "NUM=random.sample(range(1, u_predictions.shape[0]), 1)\n",
    "plot(geo_array_train[NUM[0]],mag_array_train[NUM[0]], u_predictions[NUM[0]],title=f\"Prediction N°{NUM[0]}\",opt='mask')"
   ]
  },
  {
   "cell_type": "code",
   "execution_count": 37,
   "id": "e674ce6f-9c66-49e7-b6f3-8eb59dbffa9a",
   "metadata": {},
   "outputs": [
    {
     "data": {
      "image/png": "[encoded data removed]",
      "text/plain": [
       "<Figure size 1600x500 with 3 Axes>"
      ]
     },
     "metadata": {},
     "output_type": "display_data"
    }
   ],
   "source": [
    "NUM=random.sample(range(1, u_predictions.shape[0]), 1)\n",
    "plot(geo_array_train[NUM[0]],mag_array_train[NUM[0]], u_predictions[NUM[0]],title=f\"Prediction N°{NUM[0]}\",opt='mask')"
   ]
  },
  {
   "cell_type": "code",
   "execution_count": 38,
   "id": "0c2e7059-43ac-4af3-bc70-e7e327c3e809",
   "metadata": {},
   "outputs": [
    {
     "data": {
      "image/png": "[encoded data removed]",
      "text/plain": [
       "<Figure size 1600x500 with 3 Axes>"
      ]
     },
     "metadata": {},
     "output_type": "display_data"
    }
   ],
   "source": [
    "NUM=random.sample(range(1, u_predictions.shape[0]), 1)\n",
    "plot(geo_array_train[NUM[0]],mag_array_train[NUM[0]], u_predictions[NUM[0]],title=f\"Prediction N°{NUM[0]}\",opt='mask')"
   ]
  },
  {
   "cell_type": "markdown",
   "id": "fb49aeef-4154-4369-8aee-c9f4219858a8",
   "metadata": {},
   "source": [
    "[Attention U-Net - Video](https://www.youtube.com/watch?v=dirDQdHDi7I)\n",
    "\n",
    "[U-Net vs Attention U-Net vs Attention Residual U-Net - Video ](https://www.youtube.com/watch?v=L5iV5BHkMzM)\n",
    "\n",
    "[Attention U-net. What is attention and why is it needed for U-Net? - Video ](https://www.youtube.com/watch?v=KOF38xAvo8I)\n",
    "\n",
    "[Attention U-Net: Learning Where to Look for the Pancreas - paper](https://arxiv.org/pdf/1804.03999)\n",
    "\n",
    "[A U-net segmentation model for predicting free convection over confined isothermal tubes - paper](https://www.sciencedirect.com/science/article/abs/pii/S0735193324000332)\n",
    "\n"
   ]
  },
  {
   "cell_type": "code",
   "execution_count": null,
   "id": "56705ccd-d4bc-4305-a694-c3afc08d2163",
   "metadata": {},
   "outputs": [],
   "source": [
    "'''\n",
    "fig, axs = plt.subplots(2, 1,layout='constrained')\n",
    "axs[0].plot(mse_total_train,color='red',label='train')\n",
    "axs[0].plot(mse_total_val,color='blue',label='val')\n",
    "axs[0].set_title('Total MSE Training and Validation Loss')\n",
    "axs[0].set_xlabel('Epochs')\n",
    "axs[0].set_ylabel('MSE+')\n",
    "axs[0].legend()\n",
    "\n",
    "axs[1].plot(mae_total_train,color='red',label='train')\n",
    "axs[1].plot(mae_total_val,color='blue',label='val')\n",
    "axs[1].set_title('Total MAE Training and Validation Metric');\n",
    "axs[1].set_xlabel('Epochs')\n",
    "axs[1].set_ylabel('MAE+')\n",
    "axs[1].legend()\n",
    "'''"
   ]
  },
  {
   "cell_type": "code",
   "execution_count": null,
   "id": "c624465b-b9de-42c6-a9d2-30e651dd6a82",
   "metadata": {},
   "outputs": [],
   "source": [
    "'''\n",
    "def MRE (geo,u_true,u_pred): # Mean Relative Error \n",
    "    \n",
    "     # call method create_mask\n",
    "    u_true_masked,u_pred_masked, Ip_value=create_mask(geo, u_true, u_pred)\n",
    "    \n",
    "    error = u_true_masked - u_pred_masked\n",
    "    norm_error = tf.sqrt(tf.reduce_sum(tf.square(error)))\n",
    "    norm_u_true=tf.sqrt(tf.reduce_sum(tf.square(u_true_masked)))\n",
    "    mre=norm_error/norm_u_true\n",
    "    \n",
    "    # Calculates the MRE over all pixels outside the obstacle\n",
    "    mre=tf.reduce_sum(mre)/Ip_value\n",
    "    \n",
    "    return mre\n",
    "'''"
   ]
  },
  {
   "cell_type": "code",
   "execution_count": null,
   "id": "58287168-f1bf-4c1c-99ce-56670c5cfc78",
   "metadata": {},
   "outputs": [],
   "source": [
    "imagen_mascarada "
   ]
  },
  {
   "cell_type": "code",
   "execution_count": null,
   "id": "9d1cd9c7-1089-4b40-9ede-718b72f69064",
   "metadata": {},
   "outputs": [],
   "source": []
  }
 ],
 "metadata": {
  "kernelspec": {
   "display_name": "Python 3 (ipykernel)",
   "language": "python",
   "name": "python3"
  },
  "language_info": {
   "codemirror_mode": {
    "name": "ipython",
    "version": 3
   },
   "file_extension": ".py",
   "mimetype": "text/x-python",
   "name": "python",
   "nbconvert_exporter": "python",
   "pygments_lexer": "ipython3",
   "version": "3.13.0"
  }
 },
 "nbformat": 4,
 "nbformat_minor": 5
}
